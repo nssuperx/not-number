{
 "cells": [
  {
   "cell_type": "code",
   "execution_count": null,
   "id": "859c3439",
   "metadata": {},
   "outputs": [],
   "source": [
    "import sys\n",
    "from pathlib import Path\n",
    "from collections import Counter\n",
    "import torch\n",
    "import torch.optim as optim\n",
    "from torchvision import datasets, transforms\n",
    "\n",
    "sys.path.append(str(Path().resolve().parent))\n",
    "\n",
    "from simplefullconnectnet.simple_fullconnect_net import SimpleFullConnectNet, train, test\n",
    "from util import get_device, show_accuracy_glaph"
   ]
  },
  {
   "cell_type": "code",
   "execution_count": null,
   "id": "360891dd",
   "metadata": {},
   "outputs": [],
   "source": [
    "device = get_device()\n",
    "device"
   ]
  },
  {
   "cell_type": "code",
   "execution_count": null,
   "id": "bbea764c",
   "metadata": {},
   "outputs": [],
   "source": [
    "tf = transforms.Compose([transforms.ToTensor(), transforms.Normalize((0.1307,), (0.3081,))])\n",
    "train_dataset = datasets.MNIST(\"./data\", train=True, download=True, transform=tf)\n",
    "test_dataset = datasets.MNIST(\"./data\", train=False, transform=tf)"
   ]
  },
  {
   "cell_type": "code",
   "execution_count": null,
   "id": "9266dd23",
   "metadata": {},
   "outputs": [],
   "source": [
    "train_loader = torch.utils.data.DataLoader(train_dataset, shuffle=True, batch_size=100, pin_memory=True, num_workers=4)\n",
    "test_loader = torch.utils.data.DataLoader(test_dataset, shuffle=True, batch_size=100, pin_memory=True, num_workers=4)\n"
   ]
  },
  {
   "cell_type": "code",
   "execution_count": null,
   "id": "c2f52fda",
   "metadata": {},
   "outputs": [],
   "source": [
    "test_classes = Counter(label for _, label in test_dataset)\n",
    "test_size = test_classes.total()"
   ]
  },
  {
   "cell_type": "code",
   "execution_count": null,
   "id": "b1f1c20e",
   "metadata": {},
   "outputs": [],
   "source": [
    "model = SimpleFullConnectNet(28 * 28, [1000, 100, 500], len(test_classes.keys())).to(device)\n",
    "print(model)\n",
    "optimizer = optim.SGD(model.parameters(), lr=0.05)"
   ]
  },
  {
   "cell_type": "code",
   "execution_count": null,
   "id": "bbaaaa3c",
   "metadata": {},
   "outputs": [],
   "source": [
    "correct_classes_history: list[list[int]] = []\n",
    "for epoch in range(10):\n",
    "    train(model, train_loader, optimizer, device)\n",
    "    loss, correct = test(model, test_loader, len(test_classes.keys()), device)\n",
    "    sc = sum(correct)\n",
    "    correct_classes_history.append(correct)\n",
    "    print(f\"Epoch {epoch + 1:2d}, Test Loss: {loss:.4f}, Correct: {sc}/{test_size}, Accuracy: {sc / test_size * 100:.2f}%\")\n",
    "\n",
    "last_correct = correct_classes_history[-1]\n",
    "class_acc = (f\"{c}: {(last_correct[i] / test_classes[c] * 100):.2f}%\" for i, c in enumerate(sorted(test_classes.keys())))\n",
    "print(\"Accuracy:\", \", \".join(class_acc))"
   ]
  },
  {
   "cell_type": "code",
   "execution_count": null,
   "id": "f1c34e67",
   "metadata": {},
   "outputs": [],
   "source": [
    "show_accuracy_glaph(test_classes, correct_classes_history)"
   ]
  }
 ],
 "metadata": {
  "kernelspec": {
   "display_name": ".venv",
   "language": "python",
   "name": "python3"
  },
  "language_info": {
   "codemirror_mode": {
    "name": "ipython",
    "version": 3
   },
   "file_extension": ".py",
   "mimetype": "text/x-python",
   "name": "python",
   "nbconvert_exporter": "python",
   "pygments_lexer": "ipython3",
   "version": "3.12.11"
  }
 },
 "nbformat": 4,
 "nbformat_minor": 5
}
